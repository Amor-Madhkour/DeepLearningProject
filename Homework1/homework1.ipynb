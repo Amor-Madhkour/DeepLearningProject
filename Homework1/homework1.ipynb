{
 "cells": [
  {
   "cell_type": "code",
   "execution_count": 1,
   "id": "302f374f",
   "metadata": {
    "_cell_guid": "e6854bb9-d90f-4314-90ae-08e1dd577db3",
    "_uuid": "4c2afcc0-428f-42b2-9ac2-2c55570cc442",
    "collapsed": false,
    "execution": {
     "iopub.execute_input": "2021-11-19T19:35:37.314229Z",
     "iopub.status.busy": "2021-11-19T19:35:37.312480Z",
     "iopub.status.idle": "2021-11-19T19:35:42.903218Z",
     "shell.execute_reply": "2021-11-19T19:35:42.902633Z",
     "shell.execute_reply.started": "2021-11-19T19:17:40.100574Z"
    },
    "jupyter": {
     "outputs_hidden": false
    },
    "papermill": {
     "duration": 5.609164,
     "end_time": "2021-11-19T19:35:42.903368",
     "exception": false,
     "start_time": "2021-11-19T19:35:37.294204",
     "status": "completed"
    },
    "tags": []
   },
   "outputs": [
    {
     "name": "stdout",
     "output_type": "stream",
     "text": [
      "2.6.0\n"
     ]
    }
   ],
   "source": [
    "import tensorflow as tf\n",
    "import numpy as np\n",
    "import os\n",
    "import random\n",
    "import pandas as pd\n",
    "import seaborn as sns\n",
    "import matplotlib as mpl\n",
    "import matplotlib.pyplot as plt\n",
    "from sklearn.model_selection import train_test_split\n",
    "from sklearn.metrics import accuracy_score, f1_score, precision_score, recall_score\n",
    "from sklearn.metrics import confusion_matrix\n",
    "from PIL import Image\n",
    "\n",
    "tfk = tf.keras\n",
    "tfkl = tf.keras.layers\n",
    "print(tf.__version__)"
   ]
  },
  {
   "cell_type": "code",
   "execution_count": 2,
   "id": "4ff9ca00",
   "metadata": {
    "_cell_guid": "22c3262f-6371-476e-9c91-5119325c4f53",
    "_uuid": "484ac8de-112f-49fe-aec2-d112225aa96f",
    "collapsed": false,
    "execution": {
     "iopub.execute_input": "2021-11-19T19:35:42.940136Z",
     "iopub.status.busy": "2021-11-19T19:35:42.939567Z",
     "iopub.status.idle": "2021-11-19T19:35:42.942281Z",
     "shell.execute_reply": "2021-11-19T19:35:42.942691Z",
     "shell.execute_reply.started": "2021-11-19T19:17:42.705425Z"
    },
    "jupyter": {
     "outputs_hidden": false
    },
    "papermill": {
     "duration": 0.026105,
     "end_time": "2021-11-19T19:35:42.942810",
     "exception": false,
     "start_time": "2021-11-19T19:35:42.916705",
     "status": "completed"
    },
    "tags": []
   },
   "outputs": [
    {
     "name": "stdout",
     "output_type": "stream",
     "text": [
      "ok\n"
     ]
    }
   ],
   "source": [
    "%config Completer.use_jedi = False\n",
    "print('ok')"
   ]
  },
  {
   "cell_type": "code",
   "execution_count": 3,
   "id": "1dc610d3",
   "metadata": {
    "_cell_guid": "f93e7b2e-7993-46a4-a65b-71c7ee3e7da4",
    "_uuid": "6c42dc18-01c9-4172-85e6-17f0dd8f6068",
    "collapsed": false,
    "execution": {
     "iopub.execute_input": "2021-11-19T19:35:42.970173Z",
     "iopub.status.busy": "2021-11-19T19:35:42.969549Z",
     "iopub.status.idle": "2021-11-19T19:35:42.971700Z",
     "shell.execute_reply": "2021-11-19T19:35:42.972095Z",
     "shell.execute_reply.started": "2021-11-19T19:17:44.692371Z"
    },
    "jupyter": {
     "outputs_hidden": false
    },
    "papermill": {
     "duration": 0.018045,
     "end_time": "2021-11-19T19:35:42.972222",
     "exception": false,
     "start_time": "2021-11-19T19:35:42.954177",
     "status": "completed"
    },
    "tags": []
   },
   "outputs": [],
   "source": [
    "# Random seed for reproducibility\n",
    "seed = 42\n",
    "\n",
    "random.seed(seed)\n",
    "os.environ['PYTHONHASHSEED'] = str(seed)\n",
    "np.random.seed(seed)\n",
    "tf.random.set_seed(seed)\n",
    "tf.compat.v1.set_random_seed(seed)"
   ]
  },
  {
   "cell_type": "code",
   "execution_count": 4,
   "id": "4a07f283",
   "metadata": {
    "execution": {
     "iopub.execute_input": "2021-11-19T19:35:42.998513Z",
     "iopub.status.busy": "2021-11-19T19:35:42.997896Z",
     "iopub.status.idle": "2021-11-19T19:35:43.000376Z",
     "shell.execute_reply": "2021-11-19T19:35:43.000748Z",
     "shell.execute_reply.started": "2021-11-19T19:17:46.688009Z"
    },
    "papermill": {
     "duration": 0.017348,
     "end_time": "2021-11-19T19:35:43.000903",
     "exception": false,
     "start_time": "2021-11-19T19:35:42.983555",
     "status": "completed"
    },
    "tags": []
   },
   "outputs": [],
   "source": [
    "# Dataset folders \n",
    "# dataset_in = 'training'\n",
    "dataset_out = 'output'\n",
    "training_dir = '../input/dataset/content/output/train'\n",
    "validation_dir = '../input/dataset/content/output/val'\n"
   ]
  },
  {
   "cell_type": "code",
   "execution_count": 5,
   "id": "426fd74a",
   "metadata": {
    "execution": {
     "iopub.execute_input": "2021-11-19T19:35:43.027970Z",
     "iopub.status.busy": "2021-11-19T19:35:43.027272Z",
     "iopub.status.idle": "2021-11-19T19:35:43.030142Z",
     "shell.execute_reply": "2021-11-19T19:35:43.029482Z",
     "shell.execute_reply.started": "2021-11-17T20:04:12.280428Z"
    },
    "papermill": {
     "duration": 0.017833,
     "end_time": "2021-11-19T19:35:43.030263",
     "exception": false,
     "start_time": "2021-11-19T19:35:43.012430",
     "status": "completed"
    },
    "tags": []
   },
   "outputs": [],
   "source": [
    "#split.ratio(dataset_in, output=dataset_out, seed=seed, ratio=(.8,.1,.1), group_prefix=None)"
   ]
  },
  {
   "cell_type": "code",
   "execution_count": 6,
   "id": "27124ab1",
   "metadata": {
    "execution": {
     "iopub.execute_input": "2021-11-19T19:35:43.058428Z",
     "iopub.status.busy": "2021-11-19T19:35:43.057722Z",
     "iopub.status.idle": "2021-11-19T19:35:43.060273Z",
     "shell.execute_reply": "2021-11-19T19:35:43.059861Z",
     "shell.execute_reply.started": "2021-11-17T21:42:29.018506Z"
    },
    "papermill": {
     "duration": 0.018728,
     "end_time": "2021-11-19T19:35:43.060384",
     "exception": false,
     "start_time": "2021-11-19T19:35:43.041656",
     "status": "completed"
    },
    "tags": []
   },
   "outputs": [],
   "source": [
    "labels = {0 : 'Apple',       # 0\n",
    "          1 : 'Blueberry',           # 1\n",
    "          2 : 'Cherry',    # 2\n",
    "          3 : 'Corn',              # 3\n",
    "          4 : 'Grape',          # 4\n",
    "          5 : 'Orange',          # 5\n",
    "          6 : 'Peach',   # 6\n",
    "          7 : 'Pepper',             # 7\n",
    "          8 : 'Potato',            # 8\n",
    "          9 : 'Raspberry',         # 9\n",
    "          10 : 'Soybean',             # 10\n",
    "          11 : 'Squash',       # 11\n",
    "          12 : 'Strawberry',  # 12\n",
    "          13 : 'Tomato'   # 13\n",
    "         }"
   ]
  },
  {
   "cell_type": "code",
   "execution_count": 7,
   "id": "ae5b2302",
   "metadata": {
    "execution": {
     "iopub.execute_input": "2021-11-19T19:35:43.090111Z",
     "iopub.status.busy": "2021-11-19T19:35:43.089182Z",
     "iopub.status.idle": "2021-11-19T19:35:55.013811Z",
     "shell.execute_reply": "2021-11-19T19:35:55.014572Z",
     "shell.execute_reply.started": "2021-11-19T19:17:50.192515Z"
    },
    "papermill": {
     "duration": 11.943146,
     "end_time": "2021-11-19T19:35:55.014778",
     "exception": false,
     "start_time": "2021-11-19T19:35:43.071632",
     "status": "completed"
    },
    "tags": []
   },
   "outputs": [
    {
     "name": "stdout",
     "output_type": "stream",
     "text": [
      "Found 14176 images belonging to 14 classes.\n",
      "Found 3552 images belonging to 14 classes.\n"
     ]
    }
   ],
   "source": [
    "from tensorflow.keras.preprocessing.image import ImageDataGenerator\n",
    "\n",
    "# Create an instance of ImageDataGenerator for training, validation sets\n",
    "\n",
    "# Create an instance of ImageDataGenerator for training, validation, and test sets\n",
    "train_data_gen = ImageDataGenerator()\n",
    "valid_data_gen = ImageDataGenerator()\n",
    "\n",
    "# Obtain a data generator with the 'ImageDataGenerator.flow_from_directory' method\n",
    "train_gen = train_data_gen.flow_from_directory(directory=training_dir,\n",
    "                                               target_size=(256,256),\n",
    "                                               interpolation='lanczos',\n",
    "                                               color_mode='rgb',\n",
    "                                               classes=None, # can be set to labels\n",
    "                                               class_mode='categorical',\n",
    "                                               batch_size=32,\n",
    "                                               shuffle=True,\n",
    "                                               seed=seed)\n",
    "valid_gen = train_data_gen.flow_from_directory(directory=validation_dir,\n",
    "                                               target_size=(256,256),\n",
    "                                               interpolation='lanczos',\n",
    "                                               color_mode='rgb',\n",
    "                                               classes=None, # can be set to labels\n",
    "                                               class_mode='categorical',\n",
    "                                               batch_size=32,\n",
    "                                               shuffle=False,\n",
    "                                               seed=seed)"
   ]
  },
  {
   "cell_type": "code",
   "execution_count": 8,
   "id": "a0d37d60",
   "metadata": {
    "_cell_guid": "370e4354-8832-4df6-933c-1b51be53aa7f",
    "_uuid": "6e1faa9d-e89d-476e-b0a7-a37c8230a0c7",
    "collapsed": false,
    "execution": {
     "iopub.execute_input": "2021-11-19T19:35:55.043174Z",
     "iopub.status.busy": "2021-11-19T19:35:55.042406Z",
     "iopub.status.idle": "2021-11-19T19:35:55.046264Z",
     "shell.execute_reply": "2021-11-19T19:35:55.046646Z",
     "shell.execute_reply.started": "2021-11-17T20:06:29.318546Z"
    },
    "jupyter": {
     "outputs_hidden": false
    },
    "papermill": {
     "duration": 0.018827,
     "end_time": "2021-11-19T19:35:55.046773",
     "exception": false,
     "start_time": "2021-11-19T19:35:55.027946",
     "status": "completed"
    },
    "tags": []
   },
   "outputs": [],
   "source": [
    "input_shape = (256, 256, 3)\n",
    "epochs = 100"
   ]
  },
  {
   "cell_type": "code",
   "execution_count": 9,
   "id": "08339d2b",
   "metadata": {
    "execution": {
     "iopub.execute_input": "2021-11-19T19:35:55.075568Z",
     "iopub.status.busy": "2021-11-19T19:35:55.073817Z",
     "iopub.status.idle": "2021-11-19T19:35:57.381561Z",
     "shell.execute_reply": "2021-11-19T19:35:57.381107Z",
     "shell.execute_reply.started": "2021-11-17T20:06:42.661688Z"
    },
    "papermill": {
     "duration": 2.323018,
     "end_time": "2021-11-19T19:35:57.381678",
     "exception": false,
     "start_time": "2021-11-19T19:35:55.058660",
     "status": "completed"
    },
    "tags": []
   },
   "outputs": [
    {
     "name": "stderr",
     "output_type": "stream",
     "text": [
      "2021-11-19 19:35:55.145098: I tensorflow/stream_executor/cuda/cuda_gpu_executor.cc:937] successful NUMA node read from SysFS had negative value (-1), but there must be at least one NUMA node, so returning NUMA node zero\n",
      "2021-11-19 19:35:55.245678: I tensorflow/stream_executor/cuda/cuda_gpu_executor.cc:937] successful NUMA node read from SysFS had negative value (-1), but there must be at least one NUMA node, so returning NUMA node zero\n",
      "2021-11-19 19:35:55.246389: I tensorflow/stream_executor/cuda/cuda_gpu_executor.cc:937] successful NUMA node read from SysFS had negative value (-1), but there must be at least one NUMA node, so returning NUMA node zero\n",
      "2021-11-19 19:35:55.248775: I tensorflow/core/platform/cpu_feature_guard.cc:142] This TensorFlow binary is optimized with oneAPI Deep Neural Network Library (oneDNN) to use the following CPU instructions in performance-critical operations:  AVX2 AVX512F FMA\n",
      "To enable them in other operations, rebuild TensorFlow with the appropriate compiler flags.\n",
      "2021-11-19 19:35:55.249656: I tensorflow/stream_executor/cuda/cuda_gpu_executor.cc:937] successful NUMA node read from SysFS had negative value (-1), but there must be at least one NUMA node, so returning NUMA node zero\n",
      "2021-11-19 19:35:55.250378: I tensorflow/stream_executor/cuda/cuda_gpu_executor.cc:937] successful NUMA node read from SysFS had negative value (-1), but there must be at least one NUMA node, so returning NUMA node zero\n",
      "2021-11-19 19:35:55.250986: I tensorflow/stream_executor/cuda/cuda_gpu_executor.cc:937] successful NUMA node read from SysFS had negative value (-1), but there must be at least one NUMA node, so returning NUMA node zero\n",
      "2021-11-19 19:35:57.047520: I tensorflow/stream_executor/cuda/cuda_gpu_executor.cc:937] successful NUMA node read from SysFS had negative value (-1), but there must be at least one NUMA node, so returning NUMA node zero\n",
      "2021-11-19 19:35:57.048367: I tensorflow/stream_executor/cuda/cuda_gpu_executor.cc:937] successful NUMA node read from SysFS had negative value (-1), but there must be at least one NUMA node, so returning NUMA node zero\n",
      "2021-11-19 19:35:57.049040: I tensorflow/stream_executor/cuda/cuda_gpu_executor.cc:937] successful NUMA node read from SysFS had negative value (-1), but there must be at least one NUMA node, so returning NUMA node zero\n",
      "2021-11-19 19:35:57.049640: I tensorflow/core/common_runtime/gpu/gpu_device.cc:1510] Created device /job:localhost/replica:0/task:0/device:GPU:0 with 15403 MB memory:  -> device: 0, name: Tesla P100-PCIE-16GB, pci bus id: 0000:00:04.0, compute capability: 6.0\n"
     ]
    }
   ],
   "source": [
    "from tensorflow.keras.models import Sequential\n",
    "from tensorflow.keras import layers\n",
    "\n",
    "img_augmentation = Sequential(\n",
    "    [\n",
    "        layers.RandomRotation(factor=0.4),\n",
    "        layers.RandomTranslation(height_factor=0.4, width_factor=0.4),\n",
    "        layers.RandomFlip(),\n",
    "        layers.RandomContrast(factor=0.3),\n",
    "    ],\n",
    "    name=\"img_augmentation\",\n",
    ")"
   ]
  },
  {
   "cell_type": "code",
   "execution_count": 10,
   "id": "1fbece7e",
   "metadata": {
    "execution": {
     "iopub.execute_input": "2021-11-19T19:35:57.417263Z",
     "iopub.status.busy": "2021-11-19T19:35:57.416054Z",
     "iopub.status.idle": "2021-11-19T19:35:57.419907Z",
     "shell.execute_reply": "2021-11-19T19:35:57.419490Z",
     "shell.execute_reply.started": "2021-11-17T20:06:47.774825Z"
    },
    "papermill": {
     "duration": 0.025291,
     "end_time": "2021-11-19T19:35:57.420008",
     "exception": false,
     "start_time": "2021-11-19T19:35:57.394717",
     "status": "completed"
    },
    "tags": []
   },
   "outputs": [],
   "source": [
    "from tensorflow.keras.applications import * #Efficient Net included here\n",
    "from tensorflow.keras import models\n",
    "from tensorflow.keras import layers\n",
    "from keras.preprocessing.image import ImageDataGenerator\n",
    "import os\n",
    "import shutil\n",
    "import pandas as pd\n",
    "from sklearn import model_selection\n",
    "from tqdm import tqdm\n",
    "from tensorflow.keras import optimizers\n",
    "import tensorflow as tf\n",
    "\n",
    "def build_efficientNetB7(input_shape):\n",
    "    inputs = layers.Input(shape=input_shape)\n",
    "    x = img_augmentation(inputs)\n",
    "    model = EfficientNetB7(include_top=False, input_tensor=x, weights=\"imagenet\")\n",
    "\n",
    "    # Freeze the pretrained weights\n",
    "    model.trainable = False\n",
    "\n",
    "    # Rebuild top\n",
    "    x = layers.GlobalAveragePooling2D(name=\"avg_pool\")(model.output)\n",
    "    x = layers.BatchNormalization()(x)\n",
    "\n",
    "    top_dropout_rate = 0.4\n",
    "    x = layers.Dropout(top_dropout_rate, name=\"top_dropout\")(x)\n",
    "    outputs = layers.Dense(14, activation=\"softmax\", name=\"pred\")(x)\n",
    "\n",
    "    # Compile\n",
    "    model = tf.keras.Model(inputs, outputs, name=\"EfficientNet\")\n",
    "    optimizer = tf.keras.optimizers.SGD(learning_rate=1e-3)\n",
    "    model.compile(\n",
    "        optimizer=optimizer, loss=\"categorical_crossentropy\", metrics=[\"accuracy\"]\n",
    "    )\n",
    "    return model"
   ]
  },
  {
   "cell_type": "code",
   "execution_count": 11,
   "id": "0d3eee3f",
   "metadata": {
    "execution": {
     "iopub.execute_input": "2021-11-19T19:35:57.451252Z",
     "iopub.status.busy": "2021-11-19T19:35:57.450521Z",
     "iopub.status.idle": "2021-11-19T19:35:57.452955Z",
     "shell.execute_reply": "2021-11-19T19:35:57.452544Z",
     "shell.execute_reply.started": "2021-11-17T20:06:59.913533Z"
    },
    "papermill": {
     "duration": 0.020218,
     "end_time": "2021-11-19T19:35:57.453087",
     "exception": false,
     "start_time": "2021-11-19T19:35:57.432869",
     "status": "completed"
    },
    "tags": []
   },
   "outputs": [],
   "source": [
    "def unfreeze_model(model):\n",
    "    # We unfreeze the top 20 layers while leaving BatchNorm layers frozen\n",
    "    for layer in model.layers[-30:]:\n",
    "        if not isinstance(layer, layers.BatchNormalization):\n",
    "            layer.trainable = True\n",
    "\n",
    "    optimizer = tf.keras.optimizers.Adam(learning_rate=1e-4)\n",
    "    model.compile(\n",
    "        optimizer=optimizer, loss=\"categorical_crossentropy\", metrics=[\"accuracy\"]\n",
    "    )"
   ]
  },
  {
   "cell_type": "code",
   "execution_count": 12,
   "id": "fc423d41",
   "metadata": {
    "_cell_guid": "72727754-c652-495c-8f69-d1c37ccec1ff",
    "_uuid": "c8cf7f07-41cc-4e5f-8a8e-4a9b217b5f96",
    "collapsed": false,
    "execution": {
     "iopub.execute_input": "2021-11-19T19:35:57.485556Z",
     "iopub.status.busy": "2021-11-19T19:35:57.482853Z",
     "iopub.status.idle": "2021-11-19T19:36:07.405805Z",
     "shell.execute_reply": "2021-11-19T19:36:07.406300Z",
     "shell.execute_reply.started": "2021-11-17T20:07:02.377941Z"
    },
    "jupyter": {
     "outputs_hidden": false
    },
    "papermill": {
     "duration": 9.940884,
     "end_time": "2021-11-19T19:36:07.406464",
     "exception": false,
     "start_time": "2021-11-19T19:35:57.465580",
     "status": "completed"
    },
    "tags": []
   },
   "outputs": [
    {
     "name": "stdout",
     "output_type": "stream",
     "text": [
      "Downloading data from https://storage.googleapis.com/keras-applications/efficientnetb7_notop.h5\n",
      "258080768/258076736 [==============================] - 4s 0us/step\n",
      "258088960/258076736 [==============================] - 4s 0us/step\n"
     ]
    }
   ],
   "source": [
    "model = build_efficientNetB7(input_shape)\n",
    "unfreeze_model(model)\n",
    "\n",
    "#model.summary()"
   ]
  },
  {
   "cell_type": "code",
   "execution_count": 13,
   "id": "dec7dd15",
   "metadata": {
    "_cell_guid": "c9576f6c-91ee-42ff-a7a4-ec0eef24bbd3",
    "_uuid": "4e1f6db3-d03d-4efc-9290-12b45f890dcd",
    "collapsed": false,
    "execution": {
     "iopub.execute_input": "2021-11-19T19:36:07.461374Z",
     "iopub.status.busy": "2021-11-19T19:36:07.459776Z",
     "iopub.status.idle": "2021-11-19T19:36:07.461966Z",
     "shell.execute_reply": "2021-11-19T19:36:07.462404Z",
     "shell.execute_reply.started": "2021-11-17T20:07:52.584429Z"
    },
    "jupyter": {
     "outputs_hidden": false
    },
    "papermill": {
     "duration": 0.033918,
     "end_time": "2021-11-19T19:36:07.462539",
     "exception": false,
     "start_time": "2021-11-19T19:36:07.428621",
     "status": "completed"
    },
    "tags": []
   },
   "outputs": [],
   "source": [
    "# Utility function to create folders and callbacks for training\n",
    "from datetime import datetime\n",
    "\n",
    "def create_folders_and_callbacks(model_name):\n",
    "\n",
    "  exps_dir = os.path.join('data_augmentation_experiments')\n",
    "  if not os.path.exists(exps_dir):\n",
    "      os.makedirs(exps_dir)\n",
    "\n",
    "  now = datetime.now().strftime('%b%d_%H-%M-%S')\n",
    "\n",
    "  exp_dir = os.path.join(exps_dir, model_name + '_' + str(now))\n",
    "  if not os.path.exists(exp_dir):\n",
    "      os.makedirs(exp_dir)\n",
    "      \n",
    "  callbacks = []\n",
    "\n",
    "  # Model checkpoint\n",
    "  # ----------------\n",
    "  ckpt_dir = os.path.join(exp_dir, 'ckpts')\n",
    "  if not os.path.exists(ckpt_dir):\n",
    "      os.makedirs(ckpt_dir)\n",
    "\n",
    "  ckpt_callback = tf.keras.callbacks.ModelCheckpoint(filepath=os.path.join(ckpt_dir, 'cp.ckpt'), \n",
    "                                                     save_weights_only=False, # True to save only weights\n",
    "                                                     save_best_only=True) # True to save only the best epoch \n",
    "  callbacks.append(ckpt_callback)\n",
    "\n",
    "  # Visualize Learning on Tensorboard\n",
    "  # ---------------------------------\n",
    "  tb_dir = os.path.join(exp_dir, 'tb_logs')\n",
    "  if not os.path.exists(tb_dir):\n",
    "      os.makedirs(tb_dir)\n",
    "      \n",
    "  # By default shows losses and metrics for both training and validation\n",
    "  tb_callback = tf.keras.callbacks.TensorBoard(log_dir=tb_dir, \n",
    "                                               profile_batch=0,\n",
    "                                               histogram_freq=1)  # if > 0 (epochs) shows weights histograms\n",
    "  callbacks.append(tb_callback)\n",
    "\n",
    "  # Early Stopping\n",
    "  # --------------\n",
    "  es_callback = tf.keras.callbacks.EarlyStopping(monitor='val_loss', patience=10, restore_best_weights=True)\n",
    "  callbacks.append(es_callback)\n",
    "\n",
    "  return callbacks"
   ]
  },
  {
   "cell_type": "code",
   "execution_count": 14,
   "id": "0368eab9",
   "metadata": {
    "execution": {
     "iopub.execute_input": "2021-11-19T19:36:07.509974Z",
     "iopub.status.busy": "2021-11-19T19:36:07.509146Z",
     "iopub.status.idle": "2021-11-20T00:24:32.307939Z",
     "shell.execute_reply": "2021-11-20T00:24:32.307446Z",
     "shell.execute_reply.started": "2021-11-17T20:10:02.150425Z"
    },
    "papermill": {
     "duration": 17304.824148,
     "end_time": "2021-11-20T00:24:32.308103",
     "exception": false,
     "start_time": "2021-11-19T19:36:07.483955",
     "status": "completed"
    },
    "tags": []
   },
   "outputs": [
    {
     "name": "stderr",
     "output_type": "stream",
     "text": [
      "/opt/conda/lib/python3.7/site-packages/keras/utils/generic_utils.py:497: CustomMaskWarning: Custom mask layers require a config and must override get_config. When loading, the custom mask layer must be passed to the custom_objects argument.\n",
      "  category=CustomMaskWarning)\n",
      "2021-11-19 19:36:08.182284: I tensorflow/compiler/mlir/mlir_graph_optimization_pass.cc:185] None of the MLIR Optimization Passes are enabled (registered 2)\n"
     ]
    },
    {
     "name": "stdout",
     "output_type": "stream",
     "text": [
      "Epoch 1/100\n"
     ]
    },
    {
     "name": "stderr",
     "output_type": "stream",
     "text": [
      "2021-11-19 19:36:26.415671: I tensorflow/stream_executor/cuda/cuda_dnn.cc:369] Loaded cuDNN version 8005\n"
     ]
    },
    {
     "name": "stdout",
     "output_type": "stream",
     "text": [
      "443/443 [==============================] - 198s 394ms/step - loss: 0.7265 - accuracy: 0.7903 - val_loss: 0.2577 - val_accuracy: 0.9240\n"
     ]
    },
    {
     "name": "stderr",
     "output_type": "stream",
     "text": [
      "2021-11-19 19:40:02.321856: W tensorflow/python/util/util.cc:348] Sets are not currently considered sequences, but this may change in the future, so consider avoiding using them.\n",
      "/opt/conda/lib/python3.7/site-packages/keras/utils/generic_utils.py:497: CustomMaskWarning: Custom mask layers require a config and must override get_config. When loading, the custom mask layer must be passed to the custom_objects argument.\n",
      "  category=CustomMaskWarning)\n"
     ]
    },
    {
     "name": "stdout",
     "output_type": "stream",
     "text": [
      "Epoch 2/100\n",
      "443/443 [==============================] - 168s 380ms/step - loss: 0.3393 - accuracy: 0.8956 - val_loss: 0.1219 - val_accuracy: 0.9603\n"
     ]
    },
    {
     "name": "stderr",
     "output_type": "stream",
     "text": [
      "/opt/conda/lib/python3.7/site-packages/keras/utils/generic_utils.py:497: CustomMaskWarning: Custom mask layers require a config and must override get_config. When loading, the custom mask layer must be passed to the custom_objects argument.\n",
      "  category=CustomMaskWarning)\n"
     ]
    },
    {
     "name": "stdout",
     "output_type": "stream",
     "text": [
      "Epoch 3/100\n",
      "443/443 [==============================] - 168s 380ms/step - loss: 0.2470 - accuracy: 0.9240 - val_loss: 0.1364 - val_accuracy: 0.9561\n",
      "Epoch 4/100\n",
      "443/443 [==============================] - 168s 380ms/step - loss: 0.2156 - accuracy: 0.9335 - val_loss: 0.0881 - val_accuracy: 0.9764\n"
     ]
    },
    {
     "name": "stderr",
     "output_type": "stream",
     "text": [
      "/opt/conda/lib/python3.7/site-packages/keras/utils/generic_utils.py:497: CustomMaskWarning: Custom mask layers require a config and must override get_config. When loading, the custom mask layer must be passed to the custom_objects argument.\n",
      "  category=CustomMaskWarning)\n"
     ]
    },
    {
     "name": "stdout",
     "output_type": "stream",
     "text": [
      "Epoch 5/100\n",
      "443/443 [==============================] - 169s 381ms/step - loss: 0.2014 - accuracy: 0.9377 - val_loss: 0.0694 - val_accuracy: 0.9794\n"
     ]
    },
    {
     "name": "stderr",
     "output_type": "stream",
     "text": [
      "/opt/conda/lib/python3.7/site-packages/keras/utils/generic_utils.py:497: CustomMaskWarning: Custom mask layers require a config and must override get_config. When loading, the custom mask layer must be passed to the custom_objects argument.\n",
      "  category=CustomMaskWarning)\n"
     ]
    },
    {
     "name": "stdout",
     "output_type": "stream",
     "text": [
      "Epoch 6/100\n",
      "443/443 [==============================] - 168s 380ms/step - loss: 0.1804 - accuracy: 0.9442 - val_loss: 0.0832 - val_accuracy: 0.9727\n",
      "Epoch 7/100\n",
      "443/443 [==============================] - 168s 380ms/step - loss: 0.1634 - accuracy: 0.9492 - val_loss: 0.0870 - val_accuracy: 0.9724\n",
      "Epoch 8/100\n",
      "443/443 [==============================] - 169s 381ms/step - loss: 0.1437 - accuracy: 0.9520 - val_loss: 0.0485 - val_accuracy: 0.9848\n"
     ]
    },
    {
     "name": "stderr",
     "output_type": "stream",
     "text": [
      "/opt/conda/lib/python3.7/site-packages/keras/utils/generic_utils.py:497: CustomMaskWarning: Custom mask layers require a config and must override get_config. When loading, the custom mask layer must be passed to the custom_objects argument.\n",
      "  category=CustomMaskWarning)\n"
     ]
    },
    {
     "name": "stdout",
     "output_type": "stream",
     "text": [
      "Epoch 9/100\n",
      "443/443 [==============================] - 169s 381ms/step - loss: 0.1430 - accuracy: 0.9557 - val_loss: 0.0553 - val_accuracy: 0.9831\n",
      "Epoch 10/100\n",
      "443/443 [==============================] - 169s 381ms/step - loss: 0.1459 - accuracy: 0.9550 - val_loss: 0.0639 - val_accuracy: 0.9797\n",
      "Epoch 11/100\n",
      "443/443 [==============================] - 169s 381ms/step - loss: 0.1293 - accuracy: 0.9584 - val_loss: 0.0437 - val_accuracy: 0.9837\n"
     ]
    },
    {
     "name": "stderr",
     "output_type": "stream",
     "text": [
      "/opt/conda/lib/python3.7/site-packages/keras/utils/generic_utils.py:497: CustomMaskWarning: Custom mask layers require a config and must override get_config. When loading, the custom mask layer must be passed to the custom_objects argument.\n",
      "  category=CustomMaskWarning)\n"
     ]
    },
    {
     "name": "stdout",
     "output_type": "stream",
     "text": [
      "Epoch 12/100\n",
      "443/443 [==============================] - 169s 381ms/step - loss: 0.1240 - accuracy: 0.9612 - val_loss: 0.0464 - val_accuracy: 0.9873\n",
      "Epoch 13/100\n",
      "443/443 [==============================] - 169s 381ms/step - loss: 0.1153 - accuracy: 0.9649 - val_loss: 0.0489 - val_accuracy: 0.9817\n",
      "Epoch 14/100\n",
      "443/443 [==============================] - 179s 405ms/step - loss: 0.1136 - accuracy: 0.9642 - val_loss: 0.0439 - val_accuracy: 0.9856\n",
      "Epoch 15/100\n",
      "443/443 [==============================] - 169s 380ms/step - loss: 0.1177 - accuracy: 0.9618 - val_loss: 0.0414 - val_accuracy: 0.9856\n"
     ]
    },
    {
     "name": "stderr",
     "output_type": "stream",
     "text": [
      "/opt/conda/lib/python3.7/site-packages/keras/utils/generic_utils.py:497: CustomMaskWarning: Custom mask layers require a config and must override get_config. When loading, the custom mask layer must be passed to the custom_objects argument.\n",
      "  category=CustomMaskWarning)\n"
     ]
    },
    {
     "name": "stdout",
     "output_type": "stream",
     "text": [
      "Epoch 16/100\n",
      "443/443 [==============================] - 169s 380ms/step - loss: 0.1123 - accuracy: 0.9652 - val_loss: 0.0470 - val_accuracy: 0.9856\n",
      "Epoch 17/100\n",
      "443/443 [==============================] - 169s 381ms/step - loss: 0.1062 - accuracy: 0.9661 - val_loss: 0.0436 - val_accuracy: 0.9862\n",
      "Epoch 18/100\n",
      "443/443 [==============================] - 179s 405ms/step - loss: 0.0983 - accuracy: 0.9673 - val_loss: 0.0791 - val_accuracy: 0.9775\n",
      "Epoch 19/100\n",
      "443/443 [==============================] - 169s 381ms/step - loss: 0.0948 - accuracy: 0.9697 - val_loss: 0.0848 - val_accuracy: 0.9741\n",
      "Epoch 20/100\n",
      "443/443 [==============================] - 169s 381ms/step - loss: 0.0960 - accuracy: 0.9686 - val_loss: 0.0418 - val_accuracy: 0.9856\n",
      "Epoch 21/100\n",
      "443/443 [==============================] - 169s 381ms/step - loss: 0.0925 - accuracy: 0.9722 - val_loss: 0.0493 - val_accuracy: 0.9842\n",
      "Epoch 22/100\n",
      "443/443 [==============================] - 169s 382ms/step - loss: 0.0891 - accuracy: 0.9723 - val_loss: 0.0467 - val_accuracy: 0.9845\n",
      "Epoch 23/100\n",
      "443/443 [==============================] - 169s 381ms/step - loss: 0.0909 - accuracy: 0.9697 - val_loss: 0.0366 - val_accuracy: 0.9885\n"
     ]
    },
    {
     "name": "stderr",
     "output_type": "stream",
     "text": [
      "/opt/conda/lib/python3.7/site-packages/keras/utils/generic_utils.py:497: CustomMaskWarning: Custom mask layers require a config and must override get_config. When loading, the custom mask layer must be passed to the custom_objects argument.\n",
      "  category=CustomMaskWarning)\n"
     ]
    },
    {
     "name": "stdout",
     "output_type": "stream",
     "text": [
      "Epoch 24/100\n",
      "443/443 [==============================] - 169s 381ms/step - loss: 0.0867 - accuracy: 0.9716 - val_loss: 0.0483 - val_accuracy: 0.9845\n",
      "Epoch 25/100\n",
      "443/443 [==============================] - 169s 381ms/step - loss: 0.0807 - accuracy: 0.9738 - val_loss: 0.0542 - val_accuracy: 0.9809\n",
      "Epoch 26/100\n",
      "443/443 [==============================] - 169s 381ms/step - loss: 0.0778 - accuracy: 0.9747 - val_loss: 0.0353 - val_accuracy: 0.9887\n"
     ]
    },
    {
     "name": "stderr",
     "output_type": "stream",
     "text": [
      "/opt/conda/lib/python3.7/site-packages/keras/utils/generic_utils.py:497: CustomMaskWarning: Custom mask layers require a config and must override get_config. When loading, the custom mask layer must be passed to the custom_objects argument.\n",
      "  category=CustomMaskWarning)\n"
     ]
    },
    {
     "name": "stdout",
     "output_type": "stream",
     "text": [
      "Epoch 27/100\n",
      "443/443 [==============================] - 169s 381ms/step - loss: 0.0809 - accuracy: 0.9731 - val_loss: 0.0419 - val_accuracy: 0.9854\n",
      "Epoch 28/100\n",
      "443/443 [==============================] - 169s 382ms/step - loss: 0.0861 - accuracy: 0.9728 - val_loss: 0.0281 - val_accuracy: 0.9921\n"
     ]
    },
    {
     "name": "stderr",
     "output_type": "stream",
     "text": [
      "/opt/conda/lib/python3.7/site-packages/keras/utils/generic_utils.py:497: CustomMaskWarning: Custom mask layers require a config and must override get_config. When loading, the custom mask layer must be passed to the custom_objects argument.\n",
      "  category=CustomMaskWarning)\n"
     ]
    },
    {
     "name": "stdout",
     "output_type": "stream",
     "text": [
      "Epoch 29/100\n",
      "443/443 [==============================] - 169s 382ms/step - loss: 0.0719 - accuracy: 0.9771 - val_loss: 0.0576 - val_accuracy: 0.9809\n",
      "Epoch 30/100\n",
      "443/443 [==============================] - 169s 381ms/step - loss: 0.0781 - accuracy: 0.9740 - val_loss: 0.0342 - val_accuracy: 0.9890\n",
      "Epoch 31/100\n",
      "443/443 [==============================] - 169s 381ms/step - loss: 0.0776 - accuracy: 0.9763 - val_loss: 0.0521 - val_accuracy: 0.9848\n",
      "Epoch 32/100\n",
      "443/443 [==============================] - 169s 381ms/step - loss: 0.0702 - accuracy: 0.9772 - val_loss: 0.0310 - val_accuracy: 0.9893\n",
      "Epoch 33/100\n",
      "443/443 [==============================] - 179s 405ms/step - loss: 0.0717 - accuracy: 0.9776 - val_loss: 0.0244 - val_accuracy: 0.9921\n"
     ]
    },
    {
     "name": "stderr",
     "output_type": "stream",
     "text": [
      "/opt/conda/lib/python3.7/site-packages/keras/utils/generic_utils.py:497: CustomMaskWarning: Custom mask layers require a config and must override get_config. When loading, the custom mask layer must be passed to the custom_objects argument.\n",
      "  category=CustomMaskWarning)\n"
     ]
    },
    {
     "name": "stdout",
     "output_type": "stream",
     "text": [
      "Epoch 34/100\n",
      "443/443 [==============================] - 180s 405ms/step - loss: 0.0712 - accuracy: 0.9764 - val_loss: 0.0296 - val_accuracy: 0.9904\n",
      "Epoch 35/100\n",
      "443/443 [==============================] - 169s 382ms/step - loss: 0.0649 - accuracy: 0.9795 - val_loss: 0.0366 - val_accuracy: 0.9876\n",
      "Epoch 36/100\n",
      "443/443 [==============================] - 169s 381ms/step - loss: 0.0677 - accuracy: 0.9768 - val_loss: 0.0298 - val_accuracy: 0.9896\n",
      "Epoch 37/100\n",
      "443/443 [==============================] - 169s 381ms/step - loss: 0.0652 - accuracy: 0.9776 - val_loss: 0.0369 - val_accuracy: 0.9859\n",
      "Epoch 38/100\n",
      "443/443 [==============================] - 169s 381ms/step - loss: 0.0663 - accuracy: 0.9791 - val_loss: 0.0273 - val_accuracy: 0.9901\n",
      "Epoch 39/100\n",
      "443/443 [==============================] - 169s 380ms/step - loss: 0.0638 - accuracy: 0.9788 - val_loss: 0.0268 - val_accuracy: 0.9901\n",
      "Epoch 40/100\n",
      "443/443 [==============================] - 169s 381ms/step - loss: 0.0638 - accuracy: 0.9778 - val_loss: 0.0279 - val_accuracy: 0.9916\n",
      "Epoch 41/100\n",
      "443/443 [==============================] - 169s 381ms/step - loss: 0.0652 - accuracy: 0.9794 - val_loss: 0.0247 - val_accuracy: 0.9918\n",
      "Epoch 42/100\n",
      "443/443 [==============================] - 169s 381ms/step - loss: 0.0642 - accuracy: 0.9798 - val_loss: 0.0228 - val_accuracy: 0.9930\n"
     ]
    },
    {
     "name": "stderr",
     "output_type": "stream",
     "text": [
      "/opt/conda/lib/python3.7/site-packages/keras/utils/generic_utils.py:497: CustomMaskWarning: Custom mask layers require a config and must override get_config. When loading, the custom mask layer must be passed to the custom_objects argument.\n",
      "  category=CustomMaskWarning)\n"
     ]
    },
    {
     "name": "stdout",
     "output_type": "stream",
     "text": [
      "Epoch 43/100\n",
      "443/443 [==============================] - 169s 381ms/step - loss: 0.0563 - accuracy: 0.9826 - val_loss: 0.0187 - val_accuracy: 0.9961\n"
     ]
    },
    {
     "name": "stderr",
     "output_type": "stream",
     "text": [
      "/opt/conda/lib/python3.7/site-packages/keras/utils/generic_utils.py:497: CustomMaskWarning: Custom mask layers require a config and must override get_config. When loading, the custom mask layer must be passed to the custom_objects argument.\n",
      "  category=CustomMaskWarning)\n"
     ]
    },
    {
     "name": "stdout",
     "output_type": "stream",
     "text": [
      "Epoch 44/100\n",
      "443/443 [==============================] - 169s 380ms/step - loss: 0.0593 - accuracy: 0.9799 - val_loss: 0.0229 - val_accuracy: 0.9924\n",
      "Epoch 45/100\n",
      "443/443 [==============================] - 169s 381ms/step - loss: 0.0668 - accuracy: 0.9802 - val_loss: 0.0187 - val_accuracy: 0.9952\n"
     ]
    },
    {
     "name": "stderr",
     "output_type": "stream",
     "text": [
      "/opt/conda/lib/python3.7/site-packages/keras/utils/generic_utils.py:497: CustomMaskWarning: Custom mask layers require a config and must override get_config. When loading, the custom mask layer must be passed to the custom_objects argument.\n",
      "  category=CustomMaskWarning)\n"
     ]
    },
    {
     "name": "stdout",
     "output_type": "stream",
     "text": [
      "Epoch 46/100\n",
      "443/443 [==============================] - 169s 382ms/step - loss: 0.0619 - accuracy: 0.9807 - val_loss: 0.0246 - val_accuracy: 0.9924\n",
      "Epoch 47/100\n",
      "443/443 [==============================] - 169s 381ms/step - loss: 0.0609 - accuracy: 0.9818 - val_loss: 0.0254 - val_accuracy: 0.9913\n",
      "Epoch 48/100\n",
      "443/443 [==============================] - 169s 381ms/step - loss: 0.0572 - accuracy: 0.9812 - val_loss: 0.0339 - val_accuracy: 0.9882\n",
      "Epoch 49/100\n",
      "443/443 [==============================] - 169s 381ms/step - loss: 0.0625 - accuracy: 0.9799 - val_loss: 0.0348 - val_accuracy: 0.9870\n",
      "Epoch 50/100\n",
      "443/443 [==============================] - 169s 381ms/step - loss: 0.0542 - accuracy: 0.9828 - val_loss: 0.0232 - val_accuracy: 0.9927\n",
      "Epoch 51/100\n",
      "443/443 [==============================] - 169s 382ms/step - loss: 0.0551 - accuracy: 0.9820 - val_loss: 0.0221 - val_accuracy: 0.9930\n",
      "Epoch 52/100\n",
      "443/443 [==============================] - 169s 382ms/step - loss: 0.0555 - accuracy: 0.9824 - val_loss: 0.0178 - val_accuracy: 0.9952\n"
     ]
    },
    {
     "name": "stderr",
     "output_type": "stream",
     "text": [
      "/opt/conda/lib/python3.7/site-packages/keras/utils/generic_utils.py:497: CustomMaskWarning: Custom mask layers require a config and must override get_config. When loading, the custom mask layer must be passed to the custom_objects argument.\n",
      "  category=CustomMaskWarning)\n"
     ]
    },
    {
     "name": "stdout",
     "output_type": "stream",
     "text": [
      "Epoch 53/100\n",
      "443/443 [==============================] - 180s 406ms/step - loss: 0.0540 - accuracy: 0.9822 - val_loss: 0.0257 - val_accuracy: 0.9927\n",
      "Epoch 54/100\n",
      "443/443 [==============================] - 169s 381ms/step - loss: 0.0516 - accuracy: 0.9827 - val_loss: 0.0205 - val_accuracy: 0.9930\n",
      "Epoch 55/100\n",
      "443/443 [==============================] - 180s 405ms/step - loss: 0.0557 - accuracy: 0.9816 - val_loss: 0.0234 - val_accuracy: 0.9927\n",
      "Epoch 56/100\n",
      "443/443 [==============================] - 169s 382ms/step - loss: 0.0511 - accuracy: 0.9832 - val_loss: 0.0251 - val_accuracy: 0.9918\n",
      "Epoch 57/100\n",
      "443/443 [==============================] - 169s 382ms/step - loss: 0.0569 - accuracy: 0.9819 - val_loss: 0.0246 - val_accuracy: 0.9935\n",
      "Epoch 58/100\n",
      "443/443 [==============================] - 169s 382ms/step - loss: 0.0511 - accuracy: 0.9824 - val_loss: 0.0215 - val_accuracy: 0.9938\n",
      "Epoch 59/100\n",
      "443/443 [==============================] - 169s 382ms/step - loss: 0.0508 - accuracy: 0.9830 - val_loss: 0.0187 - val_accuracy: 0.9947\n",
      "Epoch 60/100\n",
      "443/443 [==============================] - 169s 382ms/step - loss: 0.0531 - accuracy: 0.9836 - val_loss: 0.0175 - val_accuracy: 0.9955\n"
     ]
    },
    {
     "name": "stderr",
     "output_type": "stream",
     "text": [
      "/opt/conda/lib/python3.7/site-packages/keras/utils/generic_utils.py:497: CustomMaskWarning: Custom mask layers require a config and must override get_config. When loading, the custom mask layer must be passed to the custom_objects argument.\n",
      "  category=CustomMaskWarning)\n"
     ]
    },
    {
     "name": "stdout",
     "output_type": "stream",
     "text": [
      "Epoch 61/100\n",
      "443/443 [==============================] - 169s 382ms/step - loss: 0.0535 - accuracy: 0.9824 - val_loss: 0.0203 - val_accuracy: 0.9941\n",
      "Epoch 62/100\n",
      "443/443 [==============================] - 169s 383ms/step - loss: 0.0557 - accuracy: 0.9813 - val_loss: 0.0237 - val_accuracy: 0.9930\n",
      "Epoch 63/100\n",
      "443/443 [==============================] - 169s 382ms/step - loss: 0.0495 - accuracy: 0.9832 - val_loss: 0.0195 - val_accuracy: 0.9935\n",
      "Epoch 64/100\n",
      "443/443 [==============================] - 169s 381ms/step - loss: 0.0515 - accuracy: 0.9846 - val_loss: 0.0183 - val_accuracy: 0.9955\n",
      "Epoch 65/100\n",
      "443/443 [==============================] - 169s 381ms/step - loss: 0.0529 - accuracy: 0.9825 - val_loss: 0.0125 - val_accuracy: 0.9958\n"
     ]
    },
    {
     "name": "stderr",
     "output_type": "stream",
     "text": [
      "/opt/conda/lib/python3.7/site-packages/keras/utils/generic_utils.py:497: CustomMaskWarning: Custom mask layers require a config and must override get_config. When loading, the custom mask layer must be passed to the custom_objects argument.\n",
      "  category=CustomMaskWarning)\n"
     ]
    },
    {
     "name": "stdout",
     "output_type": "stream",
     "text": [
      "Epoch 66/100\n",
      "443/443 [==============================] - 169s 381ms/step - loss: 0.0522 - accuracy: 0.9833 - val_loss: 0.0148 - val_accuracy: 0.9952\n",
      "Epoch 67/100\n",
      "443/443 [==============================] - 169s 381ms/step - loss: 0.0479 - accuracy: 0.9851 - val_loss: 0.0139 - val_accuracy: 0.9952\n",
      "Epoch 68/100\n",
      "443/443 [==============================] - 169s 381ms/step - loss: 0.0466 - accuracy: 0.9857 - val_loss: 0.0157 - val_accuracy: 0.9961\n",
      "Epoch 69/100\n",
      "443/443 [==============================] - 169s 381ms/step - loss: 0.0427 - accuracy: 0.9855 - val_loss: 0.0171 - val_accuracy: 0.9941\n",
      "Epoch 70/100\n",
      "443/443 [==============================] - 169s 381ms/step - loss: 0.0457 - accuracy: 0.9845 - val_loss: 0.0227 - val_accuracy: 0.9938\n",
      "Epoch 71/100\n",
      "443/443 [==============================] - 169s 381ms/step - loss: 0.0502 - accuracy: 0.9831 - val_loss: 0.0179 - val_accuracy: 0.9952\n",
      "Epoch 72/100\n",
      "443/443 [==============================] - 169s 381ms/step - loss: 0.0444 - accuracy: 0.9850 - val_loss: 0.0219 - val_accuracy: 0.9932\n",
      "Epoch 73/100\n",
      "443/443 [==============================] - 169s 381ms/step - loss: 0.0461 - accuracy: 0.9845 - val_loss: 0.0179 - val_accuracy: 0.9949\n",
      "Epoch 74/100\n",
      "443/443 [==============================] - 169s 381ms/step - loss: 0.0482 - accuracy: 0.9839 - val_loss: 0.0119 - val_accuracy: 0.9969\n"
     ]
    },
    {
     "name": "stderr",
     "output_type": "stream",
     "text": [
      "/opt/conda/lib/python3.7/site-packages/keras/utils/generic_utils.py:497: CustomMaskWarning: Custom mask layers require a config and must override get_config. When loading, the custom mask layer must be passed to the custom_objects argument.\n",
      "  category=CustomMaskWarning)\n"
     ]
    },
    {
     "name": "stdout",
     "output_type": "stream",
     "text": [
      "Epoch 75/100\n",
      "443/443 [==============================] - 169s 381ms/step - loss: 0.0458 - accuracy: 0.9846 - val_loss: 0.0189 - val_accuracy: 0.9938\n",
      "Epoch 76/100\n",
      "443/443 [==============================] - 169s 382ms/step - loss: 0.0449 - accuracy: 0.9851 - val_loss: 0.0156 - val_accuracy: 0.9958\n",
      "Epoch 77/100\n",
      "443/443 [==============================] - 169s 381ms/step - loss: 0.0424 - accuracy: 0.9867 - val_loss: 0.0183 - val_accuracy: 0.9935\n",
      "Epoch 78/100\n",
      "443/443 [==============================] - 169s 382ms/step - loss: 0.0428 - accuracy: 0.9857 - val_loss: 0.0143 - val_accuracy: 0.9958\n",
      "Epoch 79/100\n",
      "443/443 [==============================] - 169s 382ms/step - loss: 0.0459 - accuracy: 0.9848 - val_loss: 0.0148 - val_accuracy: 0.9955\n",
      "Epoch 80/100\n",
      "443/443 [==============================] - 169s 381ms/step - loss: 0.0410 - accuracy: 0.9870 - val_loss: 0.0188 - val_accuracy: 0.9944\n",
      "Epoch 81/100\n",
      "443/443 [==============================] - 169s 381ms/step - loss: 0.0361 - accuracy: 0.9874 - val_loss: 0.0279 - val_accuracy: 0.9913\n",
      "Epoch 82/100\n",
      "443/443 [==============================] - 169s 382ms/step - loss: 0.0401 - accuracy: 0.9865 - val_loss: 0.0159 - val_accuracy: 0.9941\n",
      "Epoch 83/100\n",
      "443/443 [==============================] - 169s 382ms/step - loss: 0.0407 - accuracy: 0.9865 - val_loss: 0.0152 - val_accuracy: 0.9963\n",
      "Epoch 84/100\n",
      "443/443 [==============================] - 169s 382ms/step - loss: 0.0414 - accuracy: 0.9855 - val_loss: 0.0148 - val_accuracy: 0.9949\n"
     ]
    }
   ],
   "source": [
    "# Create folders and callbacks and fit\n",
    "aug_callbacks = create_folders_and_callbacks(model_name='CNN_Aug')\n",
    "# Train the model\n",
    "history = model.fit(\n",
    "    x = train_gen,\n",
    "    epochs = epochs,\n",
    "    validation_data = valid_gen,\n",
    "    callbacks = aug_callbacks,\n",
    ").history"
   ]
  }
 ],
 "metadata": {
  "kernelspec": {
   "display_name": "Python 3",
   "language": "python",
   "name": "python3"
  },
  "language_info": {
   "codemirror_mode": {
    "name": "ipython",
    "version": 3
   },
   "file_extension": ".py",
   "mimetype": "text/x-python",
   "name": "python",
   "nbconvert_exporter": "python",
   "pygments_lexer": "ipython3",
   "version": "3.7.10"
  },
  "papermill": {
   "default_parameters": {},
   "duration": 17356.309473,
   "end_time": "2021-11-20T00:24:45.712879",
   "environment_variables": {},
   "exception": null,
   "input_path": "__notebook__.ipynb",
   "output_path": "__notebook__.ipynb",
   "parameters": {},
   "start_time": "2021-11-19T19:35:29.403406",
   "version": "2.3.3"
  }
 },
 "nbformat": 4,
 "nbformat_minor": 5
}
